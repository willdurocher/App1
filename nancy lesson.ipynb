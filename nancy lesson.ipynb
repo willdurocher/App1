{
 "cells": [
  {
   "cell_type": "code",
   "execution_count": 44,
   "metadata": {
    "collapsed": false
   },
   "outputs": [],
   "source": [
    "import numpy as np\n",
    "\n",
    "import requests \n",
    "import datetime\n",
    "\n",
    "from cStringIO import StringIO\n",
    "import pandas as pd\n",
    "from dateutil import tz\n",
    "import matplotlib.pyplot as plt\n",
    "%matplotlib inline"
   ]
  },
  {
   "cell_type": "code",
   "execution_count": 36,
   "metadata": {
    "collapsed": true
   },
   "outputs": [],
   "source": [
    "def dateparse_NOAA(s):\n",
    "    \"\"\"Parse the dates from the NOAA files.\"\"\"\n",
    "\n",
    "    unaware = datetime.datetime.strptime(s, '%Y-%m-%d %H:%M')\n",
    "    aware = unaware.replace(tzinfo=tz.tzutc())\n",
    "\n",
    "    return aware\n"
   ]
  },
  {
   "cell_type": "code",
   "execution_count": 37,
   "metadata": {
    "collapsed": false
   },
   "outputs": [],
   "source": [
    "def get_NOAA_wlev(station_no, start_date, end_date):\n",
    "    \"\"\"Download water level data from NOAA site for one NOAA station\n",
    "    for specified period.\n",
    "\n",
    "    :arg station_no: Station number e.g. 9443090.\n",
    "    :type station_no: int\n",
    "\n",
    "    :arg start_date: Start date; e.g. '01-JAN-2010'.\n",
    "    :type start_date: str\n",
    "\n",
    "    :arg end_date: End date; e.g. '31-JAN-2010'\n",
    "    :type end_date: str\n",
    "\n",
    "    :returns: Saves text file with water level data in meters at one station. Time zone is UTC\n",
    "    \"\"\"\n",
    "    st_ar = datetime.datetime.strptime(start_date, '%d-%b-%Y')\n",
    "    end_ar = datetime.datetime.strptime(end_date, '%d-%b-%Y')\n",
    "\n",
    "    base_url = (\n",
    "        'http://tidesandcurrents.noaa.gov/api/datagetter'\n",
    "        '?product=water_level&application=NOS.COOPS.TAC.WL')\n",
    "    params = {\n",
    "        'begin_date': st_ar.strftime('%Y%m%d'),\n",
    "        'end_date': end_ar.strftime('%Y%m%d'),\n",
    "        'datum': 'MSL',\n",
    "        'station': str(station_no),\n",
    "        'time_zone': 'GMT',\n",
    "        'units': 'metric',\n",
    "        'format': 'csv',\n",
    "    }\n",
    "    response = requests.get(base_url, params=params)\n",
    "\n",
    "    fakefile = StringIO(response.content)\n",
    "    try:\n",
    "        obs = pd.read_csv(\n",
    "            fakefile, parse_dates=[0], date_parser=dateparse_NOAA)\n",
    "    except ValueError:\n",
    "        data = {'Date Time': st_ar.datetime, ' Water Level': float('NaN')}\n",
    "        obs = pd.DataFrame(data=data, index=[0])\n",
    "    obs = obs.rename(columns={'Date Time': 'time', ' Water Level': 'wlev'})\n",
    "    return obs\n"
   ]
  },
  {
   "cell_type": "code",
   "execution_count": 40,
   "metadata": {
    "collapsed": false
   },
   "outputs": [],
   "source": [
    "stn = 9443090\n",
    "obs= get_NOAA_wlev(stn,'07-JUL-2015','08-JUL-2015')"
   ]
  },
  {
   "cell_type": "code",
   "execution_count": 41,
   "metadata": {
    "collapsed": false
   },
   "outputs": [
    {
     "name": "stdout",
     "output_type": "stream",
     "text": [
      "                          time   wlev   Sigma   O   F   R   L  Quality \n",
      "0    2015-07-07 00:00:00+00:00  0.928   0.004   0   0   0   0         p\n",
      "1    2015-07-07 00:06:00+00:00  0.925   0.004   0   0   0   0         p\n",
      "2    2015-07-07 00:12:00+00:00  0.921   0.004   0   0   0   0         p\n",
      "3    2015-07-07 00:18:00+00:00  0.928   0.004   0   0   0   0         p\n",
      "4    2015-07-07 00:24:00+00:00  0.942   0.003   0   0   0   0         p\n",
      "5    2015-07-07 00:30:00+00:00  0.947   0.005   0   0   0   0         p\n",
      "6    2015-07-07 00:36:00+00:00  0.941   0.004   0   0   0   0         p\n",
      "7    2015-07-07 00:42:00+00:00  0.934   0.003   0   0   0   0         p\n",
      "8    2015-07-07 00:48:00+00:00  0.935   0.004   0   0   0   0         p\n",
      "9    2015-07-07 00:54:00+00:00  0.932   0.004   0   0   0   0         p\n",
      "10   2015-07-07 01:00:00+00:00  0.915   0.004   0   0   0   0         p\n",
      "11   2015-07-07 01:06:00+00:00  0.897   0.005   0   0   0   0         p\n",
      "12   2015-07-07 01:12:00+00:00  0.887   0.005   0   0   0   0         p\n",
      "13   2015-07-07 01:18:00+00:00  0.875   0.003   0   0   0   0         p\n",
      "14   2015-07-07 01:24:00+00:00  0.858   0.005   0   0   0   0         p\n",
      "15   2015-07-07 01:30:00+00:00  0.839   0.004   0   0   0   0         p\n",
      "16   2015-07-07 01:36:00+00:00  0.819   0.005   0   0   0   0         p\n",
      "17   2015-07-07 01:42:00+00:00  0.797   0.004   0   0   0   0         p\n",
      "18   2015-07-07 01:48:00+00:00  0.771   0.006   0   0   0   0         p\n",
      "19   2015-07-07 01:54:00+00:00  0.744   0.005   1   0   0   0         p\n",
      "20   2015-07-07 02:00:00+00:00  0.715   0.005   0   0   0   0         p\n",
      "21   2015-07-07 02:06:00+00:00  0.687   0.005   0   0   0   0         p\n",
      "22   2015-07-07 02:12:00+00:00  0.652   0.008   0   0   0   0         p\n",
      "23   2015-07-07 02:18:00+00:00  0.611   0.006   0   0   0   0         p\n",
      "24   2015-07-07 02:24:00+00:00  0.571   0.005   0   0   0   0         p\n",
      "25   2015-07-07 02:30:00+00:00  0.536   0.006   0   0   0   0         p\n",
      "26   2015-07-07 02:36:00+00:00  0.505   0.007   0   0   0   0         p\n",
      "27   2015-07-07 02:42:00+00:00  0.471   0.007   0   0   0   0         p\n",
      "28   2015-07-07 02:48:00+00:00  0.429   0.007   0   0   0   0         p\n",
      "29   2015-07-07 02:54:00+00:00  0.384   0.007   0   0   0   0         p\n",
      "..                         ...    ...     ...  ..  ..  ..  ..       ...\n",
      "450  2015-07-08 21:00:00+00:00 -0.740   0.007   0   0   0   0         p\n",
      "451  2015-07-08 21:06:00+00:00 -0.711   0.009   0   0   0   0         p\n",
      "452  2015-07-08 21:12:00+00:00 -0.680   0.006   0   0   0   0         p\n",
      "453  2015-07-08 21:18:00+00:00 -0.640   0.006   0   0   0   0         p\n",
      "454  2015-07-08 21:24:00+00:00 -0.595   0.009   0   0   0   0         p\n",
      "455  2015-07-08 21:30:00+00:00 -0.549   0.009   0   0   0   0         p\n",
      "456  2015-07-08 21:36:00+00:00 -0.499   0.008   0   0   0   0         p\n",
      "457  2015-07-08 21:42:00+00:00 -0.452     NaN   1   0   0   0         p\n",
      "458  2015-07-08 21:48:00+00:00 -0.407     NaN   1   0   0   0         p\n",
      "459  2015-07-08 21:54:00+00:00 -0.359     NaN   1   0   0   0         p\n",
      "460  2015-07-08 22:00:00+00:00 -0.304     NaN   1   0   0   0         p\n",
      "461  2015-07-08 22:06:00+00:00 -0.253     NaN   1   0   0   0         p\n",
      "462  2015-07-08 22:12:00+00:00 -0.208     NaN   1   0   0   0         p\n",
      "463  2015-07-08 22:18:00+00:00 -0.165     NaN   1   0   0   0         p\n",
      "464  2015-07-08 22:24:00+00:00 -0.117     NaN   1   0   0   0         p\n",
      "465  2015-07-08 22:30:00+00:00 -0.060     NaN   1   0   0   0         p\n",
      "466  2015-07-08 22:36:00+00:00 -0.005     NaN   1   0   0   0         p\n",
      "467  2015-07-08 22:42:00+00:00  0.043   0.007   0   0   0   0         p\n",
      "468  2015-07-08 22:48:00+00:00  0.082   0.007   0   0   0   0         p\n",
      "469  2015-07-08 22:54:00+00:00  0.126   0.009   0   0   0   0         p\n",
      "470  2015-07-08 23:00:00+00:00  0.175   0.010   0   0   0   0         p\n",
      "471  2015-07-08 23:06:00+00:00  0.231   0.009   0   0   0   0         p\n",
      "472  2015-07-08 23:12:00+00:00  0.281   0.007   0   0   0   0         p\n",
      "473  2015-07-08 23:18:00+00:00  0.320   0.008   0   0   0   0         p\n",
      "474  2015-07-08 23:24:00+00:00  0.361   0.007   0   0   0   0         p\n",
      "475  2015-07-08 23:30:00+00:00  0.405   0.007   0   0   0   0         p\n",
      "476  2015-07-08 23:36:00+00:00  0.453   0.007   0   0   0   0         p\n",
      "477  2015-07-08 23:42:00+00:00  0.496   0.009   0   0   0   0         p\n",
      "478  2015-07-08 23:48:00+00:00  0.540   0.008   0   0   0   0         p\n",
      "479  2015-07-08 23:54:00+00:00  0.580   0.007   0   0   0   0         p\n",
      "\n",
      "[480 rows x 8 columns]\n"
     ]
    }
   ],
   "source": [
    "print(obs)\n"
   ]
  },
  {
   "cell_type": "code",
   "execution_count": 47,
   "metadata": {
    "collapsed": false
   },
   "outputs": [
    {
     "data": {
      "text/plain": [
       "[<matplotlib.lines.Line2D at 0xc7f5780>]"
      ]
     },
     "execution_count": 47,
     "metadata": {},
     "output_type": "execute_result"
    },
    {
     "data": {
      "image/png": "[encoded data removed]",
      "text/plain": [
       "<matplotlib.figure.Figure at 0xc55bef0>"
      ]
     },
     "metadata": {},
     "output_type": "display_data"
    }
   ],
   "source": [
    "plt.plot(obs.time, obs.wlev)"
   ]
  },
  {
   "cell_type": "code",
   "execution_count": null,
   "metadata": {
    "collapsed": true
   },
   "outputs": [],
   "source": []
  }
 ],
 "metadata": {
  "kernelspec": {
   "display_name": "Python 2",
   "language": "python",
   "name": "python2"
  },
  "language_info": {
   "codemirror_mode": {
    "name": "ipython",
    "version": 2
   },
   "file_extension": ".py",
   "mimetype": "text/x-python",
   "name": "python",
   "nbconvert_exporter": "python",
   "pygments_lexer": "ipython2",
   "version": "2.7.10"
  }
 },
 "nbformat": 4,
 "nbformat_minor": 0
}
